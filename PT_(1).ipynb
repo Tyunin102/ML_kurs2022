{
  "cells": [
    {
      "cell_type": "markdown",
      "metadata": {
        "id": "_NAmkadBqoYm"
      },
      "source": [
        "В качестве моделей выберем модели с библиотеки CatBoost. Задачу классификации будет решать CatBoostClassifier, задачу регрессии - CatBoostRegressor"
      ]
    },
    {
      "cell_type": "code",
      "execution_count": 1,
      "metadata": {
        "colab": {
          "base_uri": "https://localhost:8080/"
        },
        "id": "qitxdY8ypmRH",
        "outputId": "a3827d8c-8926-43bd-f44d-2815e0a251a9"
      },
      "outputs": [
        {
          "output_type": "stream",
          "name": "stdout",
          "text": [
            "Looking in indexes: https://pypi.org/simple, https://us-python.pkg.dev/colab-wheels/public/simple/\n",
            "Collecting catboost\n",
            "  Downloading catboost-1.1.1-cp38-none-manylinux1_x86_64.whl (76.6 MB)\n",
            "\u001b[K     |████████████████████████████████| 76.6 MB 1.2 MB/s \n",
            "\u001b[?25hRequirement already satisfied: graphviz in /usr/local/lib/python3.8/dist-packages (from catboost) (0.10.1)\n",
            "Requirement already satisfied: pandas>=0.24.0 in /usr/local/lib/python3.8/dist-packages (from catboost) (1.3.5)\n",
            "Requirement already satisfied: numpy>=1.16.0 in /usr/local/lib/python3.8/dist-packages (from catboost) (1.21.6)\n",
            "Requirement already satisfied: plotly in /usr/local/lib/python3.8/dist-packages (from catboost) (5.5.0)\n",
            "Requirement already satisfied: matplotlib in /usr/local/lib/python3.8/dist-packages (from catboost) (3.2.2)\n",
            "Requirement already satisfied: six in /usr/local/lib/python3.8/dist-packages (from catboost) (1.15.0)\n",
            "Requirement already satisfied: scipy in /usr/local/lib/python3.8/dist-packages (from catboost) (1.7.3)\n",
            "Requirement already satisfied: python-dateutil>=2.7.3 in /usr/local/lib/python3.8/dist-packages (from pandas>=0.24.0->catboost) (2.8.2)\n",
            "Requirement already satisfied: pytz>=2017.3 in /usr/local/lib/python3.8/dist-packages (from pandas>=0.24.0->catboost) (2022.6)\n",
            "Requirement already satisfied: pyparsing!=2.0.4,!=2.1.2,!=2.1.6,>=2.0.1 in /usr/local/lib/python3.8/dist-packages (from matplotlib->catboost) (3.0.9)\n",
            "Requirement already satisfied: kiwisolver>=1.0.1 in /usr/local/lib/python3.8/dist-packages (from matplotlib->catboost) (1.4.4)\n",
            "Requirement already satisfied: cycler>=0.10 in /usr/local/lib/python3.8/dist-packages (from matplotlib->catboost) (0.11.0)\n",
            "Requirement already satisfied: tenacity>=6.2.0 in /usr/local/lib/python3.8/dist-packages (from plotly->catboost) (8.1.0)\n",
            "Installing collected packages: catboost\n",
            "Successfully installed catboost-1.1.1\n"
          ]
        }
      ],
      "source": [
        "!pip install catboost"
      ]
    },
    {
      "cell_type": "markdown",
      "metadata": {
        "id": "nkqKS9vRqaQ5"
      },
      "source": [
        "Импортируем библиотеки"
      ]
    },
    {
      "cell_type": "code",
      "execution_count": 3,
      "metadata": {
        "id": "mdFNKyEHqebQ"
      },
      "outputs": [],
      "source": [
        "import pandas as pd\n",
        "from catboost import CatBoostRegressor, CatBoostClassifier\n",
        "from sklearn.model_selection import train_test_split"
      ]
    },
    {
      "cell_type": "markdown",
      "metadata": {
        "id": "AjkvW5yfq7tn"
      },
      "source": [
        "Считаем файл"
      ]
    },
    {
      "cell_type": "code",
      "execution_count": 4,
      "metadata": {
        "colab": {
          "base_uri": "https://localhost:8080/",
          "height": 444
        },
        "id": "rpYqMfrAq7G7",
        "outputId": "35213628-abe7-415f-cca8-9bb6b71fe4d2"
      },
      "outputs": [
        {
          "output_type": "execute_result",
          "data": {
            "text/plain": [
              "   id                         ticket_id           ticket_type_nm  entrance_id  \\\n",
              "0   1  40BD89EC85646EFB69E283F39C298E60          Пропуск FacePay         2402   \n",
              "1   2  126727A96489CC976A8C08E5CEB00542     СК учащегося 30 дней          110   \n",
              "2   3  D28CE6A9E0E5B6D213470A97CFF32485  БСК дружинника г.Москвы          110   \n",
              "3   4  015DA44B523C062B5BFEFF3FB0E64B9E                  30 дней          110   \n",
              "4   5  95B19C6F3A504727AC3EA56EB7E3E80F                  КОШЕЛЕК          110   \n",
              "\n",
              "            entrance_nm  station_id  station_nm  line_id            line_nm  \\\n",
              "0         Лефортово БКЛ       11007   Лефортово       11  Большая кольцевая   \n",
              "1  Войковская ( Южный )        2006  Войковская        2     Замоскворецкая   \n",
              "2  Войковская ( Южный )        2006  Войковская        2     Замоскворецкая   \n",
              "3  Войковская ( Южный )        2006  Войковская        2     Замоскворецкая   \n",
              "4  Войковская ( Южный )        2006  Войковская        2     Замоскворецкая   \n",
              "\n",
              "             pass_dttm  time_to_under  label  \n",
              "0  2022-09-12 05:00:13     216.316667   8001  \n",
              "1  2022-09-12 05:00:54     648.183333   9011  \n",
              "2  2022-09-12 05:00:55     865.333333   7022  \n",
              "3  2022-09-12 05:01:13    1048.233333   2022  \n",
              "4  2022-09-12 05:02:55     965.600000   2017  "
            ],
            "text/html": [
              "\n",
              "  <div id=\"df-e5e964ad-d114-4cf0-b788-1ad6359fc042\">\n",
              "    <div class=\"colab-df-container\">\n",
              "      <div>\n",
              "<style scoped>\n",
              "    .dataframe tbody tr th:only-of-type {\n",
              "        vertical-align: middle;\n",
              "    }\n",
              "\n",
              "    .dataframe tbody tr th {\n",
              "        vertical-align: top;\n",
              "    }\n",
              "\n",
              "    .dataframe thead th {\n",
              "        text-align: right;\n",
              "    }\n",
              "</style>\n",
              "<table border=\"1\" class=\"dataframe\">\n",
              "  <thead>\n",
              "    <tr style=\"text-align: right;\">\n",
              "      <th></th>\n",
              "      <th>id</th>\n",
              "      <th>ticket_id</th>\n",
              "      <th>ticket_type_nm</th>\n",
              "      <th>entrance_id</th>\n",
              "      <th>entrance_nm</th>\n",
              "      <th>station_id</th>\n",
              "      <th>station_nm</th>\n",
              "      <th>line_id</th>\n",
              "      <th>line_nm</th>\n",
              "      <th>pass_dttm</th>\n",
              "      <th>time_to_under</th>\n",
              "      <th>label</th>\n",
              "    </tr>\n",
              "  </thead>\n",
              "  <tbody>\n",
              "    <tr>\n",
              "      <th>0</th>\n",
              "      <td>1</td>\n",
              "      <td>40BD89EC85646EFB69E283F39C298E60</td>\n",
              "      <td>Пропуск FacePay</td>\n",
              "      <td>2402</td>\n",
              "      <td>Лефортово БКЛ</td>\n",
              "      <td>11007</td>\n",
              "      <td>Лефортово</td>\n",
              "      <td>11</td>\n",
              "      <td>Большая кольцевая</td>\n",
              "      <td>2022-09-12 05:00:13</td>\n",
              "      <td>216.316667</td>\n",
              "      <td>8001</td>\n",
              "    </tr>\n",
              "    <tr>\n",
              "      <th>1</th>\n",
              "      <td>2</td>\n",
              "      <td>126727A96489CC976A8C08E5CEB00542</td>\n",
              "      <td>СК учащегося 30 дней</td>\n",
              "      <td>110</td>\n",
              "      <td>Войковская ( Южный )</td>\n",
              "      <td>2006</td>\n",
              "      <td>Войковская</td>\n",
              "      <td>2</td>\n",
              "      <td>Замоскворецкая</td>\n",
              "      <td>2022-09-12 05:00:54</td>\n",
              "      <td>648.183333</td>\n",
              "      <td>9011</td>\n",
              "    </tr>\n",
              "    <tr>\n",
              "      <th>2</th>\n",
              "      <td>3</td>\n",
              "      <td>D28CE6A9E0E5B6D213470A97CFF32485</td>\n",
              "      <td>БСК дружинника г.Москвы</td>\n",
              "      <td>110</td>\n",
              "      <td>Войковская ( Южный )</td>\n",
              "      <td>2006</td>\n",
              "      <td>Войковская</td>\n",
              "      <td>2</td>\n",
              "      <td>Замоскворецкая</td>\n",
              "      <td>2022-09-12 05:00:55</td>\n",
              "      <td>865.333333</td>\n",
              "      <td>7022</td>\n",
              "    </tr>\n",
              "    <tr>\n",
              "      <th>3</th>\n",
              "      <td>4</td>\n",
              "      <td>015DA44B523C062B5BFEFF3FB0E64B9E</td>\n",
              "      <td>30 дней</td>\n",
              "      <td>110</td>\n",
              "      <td>Войковская ( Южный )</td>\n",
              "      <td>2006</td>\n",
              "      <td>Войковская</td>\n",
              "      <td>2</td>\n",
              "      <td>Замоскворецкая</td>\n",
              "      <td>2022-09-12 05:01:13</td>\n",
              "      <td>1048.233333</td>\n",
              "      <td>2022</td>\n",
              "    </tr>\n",
              "    <tr>\n",
              "      <th>4</th>\n",
              "      <td>5</td>\n",
              "      <td>95B19C6F3A504727AC3EA56EB7E3E80F</td>\n",
              "      <td>КОШЕЛЕК</td>\n",
              "      <td>110</td>\n",
              "      <td>Войковская ( Южный )</td>\n",
              "      <td>2006</td>\n",
              "      <td>Войковская</td>\n",
              "      <td>2</td>\n",
              "      <td>Замоскворецкая</td>\n",
              "      <td>2022-09-12 05:02:55</td>\n",
              "      <td>965.600000</td>\n",
              "      <td>2017</td>\n",
              "    </tr>\n",
              "  </tbody>\n",
              "</table>\n",
              "</div>\n",
              "      <button class=\"colab-df-convert\" onclick=\"convertToInteractive('df-e5e964ad-d114-4cf0-b788-1ad6359fc042')\"\n",
              "              title=\"Convert this dataframe to an interactive table.\"\n",
              "              style=\"display:none;\">\n",
              "        \n",
              "  <svg xmlns=\"http://www.w3.org/2000/svg\" height=\"24px\"viewBox=\"0 0 24 24\"\n",
              "       width=\"24px\">\n",
              "    <path d=\"M0 0h24v24H0V0z\" fill=\"none\"/>\n",
              "    <path d=\"M18.56 5.44l.94 2.06.94-2.06 2.06-.94-2.06-.94-.94-2.06-.94 2.06-2.06.94zm-11 1L8.5 8.5l.94-2.06 2.06-.94-2.06-.94L8.5 2.5l-.94 2.06-2.06.94zm10 10l.94 2.06.94-2.06 2.06-.94-2.06-.94-.94-2.06-.94 2.06-2.06.94z\"/><path d=\"M17.41 7.96l-1.37-1.37c-.4-.4-.92-.59-1.43-.59-.52 0-1.04.2-1.43.59L10.3 9.45l-7.72 7.72c-.78.78-.78 2.05 0 2.83L4 21.41c.39.39.9.59 1.41.59.51 0 1.02-.2 1.41-.59l7.78-7.78 2.81-2.81c.8-.78.8-2.07 0-2.86zM5.41 20L4 18.59l7.72-7.72 1.47 1.35L5.41 20z\"/>\n",
              "  </svg>\n",
              "      </button>\n",
              "      \n",
              "  <style>\n",
              "    .colab-df-container {\n",
              "      display:flex;\n",
              "      flex-wrap:wrap;\n",
              "      gap: 12px;\n",
              "    }\n",
              "\n",
              "    .colab-df-convert {\n",
              "      background-color: #E8F0FE;\n",
              "      border: none;\n",
              "      border-radius: 50%;\n",
              "      cursor: pointer;\n",
              "      display: none;\n",
              "      fill: #1967D2;\n",
              "      height: 32px;\n",
              "      padding: 0 0 0 0;\n",
              "      width: 32px;\n",
              "    }\n",
              "\n",
              "    .colab-df-convert:hover {\n",
              "      background-color: #E2EBFA;\n",
              "      box-shadow: 0px 1px 2px rgba(60, 64, 67, 0.3), 0px 1px 3px 1px rgba(60, 64, 67, 0.15);\n",
              "      fill: #174EA6;\n",
              "    }\n",
              "\n",
              "    [theme=dark] .colab-df-convert {\n",
              "      background-color: #3B4455;\n",
              "      fill: #D2E3FC;\n",
              "    }\n",
              "\n",
              "    [theme=dark] .colab-df-convert:hover {\n",
              "      background-color: #434B5C;\n",
              "      box-shadow: 0px 1px 3px 1px rgba(0, 0, 0, 0.15);\n",
              "      filter: drop-shadow(0px 1px 2px rgba(0, 0, 0, 0.3));\n",
              "      fill: #FFFFFF;\n",
              "    }\n",
              "  </style>\n",
              "\n",
              "      <script>\n",
              "        const buttonEl =\n",
              "          document.querySelector('#df-e5e964ad-d114-4cf0-b788-1ad6359fc042 button.colab-df-convert');\n",
              "        buttonEl.style.display =\n",
              "          google.colab.kernel.accessAllowed ? 'block' : 'none';\n",
              "\n",
              "        async function convertToInteractive(key) {\n",
              "          const element = document.querySelector('#df-e5e964ad-d114-4cf0-b788-1ad6359fc042');\n",
              "          const dataTable =\n",
              "            await google.colab.kernel.invokeFunction('convertToInteractive',\n",
              "                                                     [key], {});\n",
              "          if (!dataTable) return;\n",
              "\n",
              "          const docLinkHtml = 'Like what you see? Visit the ' +\n",
              "            '<a target=\"_blank\" href=https://colab.research.google.com/notebooks/data_table.ipynb>data table notebook</a>'\n",
              "            + ' to learn more about interactive tables.';\n",
              "          element.innerHTML = '';\n",
              "          dataTable['output_type'] = 'display_data';\n",
              "          await google.colab.output.renderOutput(dataTable, element);\n",
              "          const docLink = document.createElement('div');\n",
              "          docLink.innerHTML = docLinkHtml;\n",
              "          element.appendChild(docLink);\n",
              "        }\n",
              "      </script>\n",
              "    </div>\n",
              "  </div>\n",
              "  "
            ]
          },
          "metadata": {},
          "execution_count": 4
        }
      ],
      "source": [
        "df = pd.read_csv('train_dataset_train.csv')\n",
        "df.head()"
      ]
    },
    {
      "cell_type": "code",
      "source": [
        "df['time_to_under'].hist()"
      ],
      "metadata": {
        "colab": {
          "base_uri": "https://localhost:8080/",
          "height": 282
        },
        "id": "916Sc9dr3ssA",
        "outputId": "c5a61cf2-1613-473f-f878-0ea1a9f4b86f"
      },
      "execution_count": 9,
      "outputs": [
        {
          "output_type": "execute_result",
          "data": {
            "text/plain": [
              "<matplotlib.axes._subplots.AxesSubplot at 0x7f6bf97a2640>"
            ]
          },
          "metadata": {},
          "execution_count": 9
        },
        {
          "output_type": "display_data",
          "data": {
            "text/plain": [
              "<Figure size 432x288 with 1 Axes>"
            ],
            "image/png": "[encoded data removed]"
          },
          "metadata": {
            "needs_background": "light"
          }
        }
      ]
    },
    {
      "cell_type": "code",
      "source": [
        "df['label'].hist(bins=10)"
      ],
      "metadata": {
        "colab": {
          "base_uri": "https://localhost:8080/",
          "height": 282
        },
        "id": "kzMqLTvr-fGU",
        "outputId": "64d67a9c-5902-4ef1-ca54-5d6b6bbab831"
      },
      "execution_count": 10,
      "outputs": [
        {
          "output_type": "execute_result",
          "data": {
            "text/plain": [
              "<matplotlib.axes._subplots.AxesSubplot at 0x7f6bff9ea850>"
            ]
          },
          "metadata": {},
          "execution_count": 10
        },
        {
          "output_type": "display_data",
          "data": {
            "text/plain": [
              "<Figure size 432x288 with 1 Axes>"
            ],
            "image/png": "[encoded data removed]"
          },
          "metadata": {
            "needs_background": "light"
          }
        }
      ]
    },
    {
      "cell_type": "markdown",
      "metadata": {
        "id": "g3-6myvZrH0R"
      },
      "source": [
        "Рассмотрим его подробнее, а именно размер, число уникальных значений и скажем о смысле каждой колонки"
      ]
    },
    {
      "cell_type": "code",
      "execution_count": 12,
      "metadata": {
        "colab": {
          "base_uri": "https://localhost:8080/",
          "height": 493
        },
        "id": "nt8vix3-rXeq",
        "outputId": "34eb7e08-87fb-4e2d-bdc0-048bb1ded43b"
      },
      "outputs": [
        {
          "output_type": "execute_result",
          "data": {
            "text/plain": [
              "                  id                         ticket_id ticket_type_nm  \\\n",
              "count   1.091021e+06                           1091021        1091021   \n",
              "unique           NaN                            335533             60   \n",
              "top              NaN  7992E92F9AE0F7506BD439547FD7E11F        КОШЕЛЕК   \n",
              "freq             NaN                                 8         262499   \n",
              "mean    5.455110e+05                               NaN            NaN   \n",
              "std     3.149508e+05                               NaN            NaN   \n",
              "min     1.000000e+00                               NaN            NaN   \n",
              "25%     2.727560e+05                               NaN            NaN   \n",
              "50%     5.455110e+05                               NaN            NaN   \n",
              "75%     8.182660e+05                               NaN            NaN   \n",
              "max     1.091021e+06                               NaN            NaN   \n",
              "\n",
              "         entrance_id              entrance_nm    station_id  station_nm  \\\n",
              "count   1.091021e+06                  1091021  1.091021e+06     1091021   \n",
              "unique           NaN                      426           NaN         245   \n",
              "top              NaN  Щёлковская ( Северный )           NaN  Щёлковская   \n",
              "freq             NaN                    17810           NaN       22133   \n",
              "mean    8.581884e+02                      NaN  8.601452e+03         NaN   \n",
              "std     9.003577e+02                      NaN  1.247133e+04         NaN   \n",
              "min     2.000000e+01                      NaN  1.002000e+03         NaN   \n",
              "25%     2.150000e+02                      NaN  3.018000e+03         NaN   \n",
              "50%     3.370000e+02                      NaN  7.009000e+03         NaN   \n",
              "75%     2.087000e+03                      NaN  9.022000e+03         NaN   \n",
              "max     2.466000e+03                      NaN  8.101600e+04         NaN   \n",
              "\n",
              "             line_id                     line_nm            pass_dttm  \\\n",
              "count   1.091021e+06                     1091021              1091021   \n",
              "unique           NaN                          16               297040   \n",
              "top              NaN  Таганско-Краснопресненская  2022-09-12 08:20:09   \n",
              "freq             NaN                      156031                   29   \n",
              "mean    8.590013e+00                         NaN                  NaN   \n",
              "std     1.247157e+01                         NaN                  NaN   \n",
              "min     1.000000e+00                         NaN                  NaN   \n",
              "25%     3.000000e+00                         NaN                  NaN   \n",
              "50%     7.000000e+00                         NaN                  NaN   \n",
              "75%     9.000000e+00                         NaN                  NaN   \n",
              "max     8.100000e+01                         NaN                  NaN   \n",
              "\n",
              "        time_to_under         label  \n",
              "count    1.091021e+06  1.091021e+06  \n",
              "unique            NaN           NaN  \n",
              "top               NaN           NaN  \n",
              "freq              NaN           NaN  \n",
              "mean     5.104668e+02  7.723527e+03  \n",
              "std      2.328452e+02  1.167015e+04  \n",
              "min      3.001667e+01  1.002000e+03  \n",
              "25%      3.229500e+02  3.006000e+03  \n",
              "50%      5.686833e+02  6.013000e+03  \n",
              "75%      6.838833e+02  9.012000e+03  \n",
              "max      1.437417e+03  8.101600e+04  "
            ],
            "text/html": [
              "\n",
              "  <div id=\"df-929500f4-6208-4665-b34b-d8ac0f3d6e47\">\n",
              "    <div class=\"colab-df-container\">\n",
              "      <div>\n",
              "<style scoped>\n",
              "    .dataframe tbody tr th:only-of-type {\n",
              "        vertical-align: middle;\n",
              "    }\n",
              "\n",
              "    .dataframe tbody tr th {\n",
              "        vertical-align: top;\n",
              "    }\n",
              "\n",
              "    .dataframe thead th {\n",
              "        text-align: right;\n",
              "    }\n",
              "</style>\n",
              "<table border=\"1\" class=\"dataframe\">\n",
              "  <thead>\n",
              "    <tr style=\"text-align: right;\">\n",
              "      <th></th>\n",
              "      <th>id</th>\n",
              "      <th>ticket_id</th>\n",
              "      <th>ticket_type_nm</th>\n",
              "      <th>entrance_id</th>\n",
              "      <th>entrance_nm</th>\n",
              "      <th>station_id</th>\n",
              "      <th>station_nm</th>\n",
              "      <th>line_id</th>\n",
              "      <th>line_nm</th>\n",
              "      <th>pass_dttm</th>\n",
              "      <th>time_to_under</th>\n",
              "      <th>label</th>\n",
              "    </tr>\n",
              "  </thead>\n",
              "  <tbody>\n",
              "    <tr>\n",
              "      <th>count</th>\n",
              "      <td>1.091021e+06</td>\n",
              "      <td>1091021</td>\n",
              "      <td>1091021</td>\n",
              "      <td>1.091021e+06</td>\n",
              "      <td>1091021</td>\n",
              "      <td>1.091021e+06</td>\n",
              "      <td>1091021</td>\n",
              "      <td>1.091021e+06</td>\n",
              "      <td>1091021</td>\n",
              "      <td>1091021</td>\n",
              "      <td>1.091021e+06</td>\n",
              "      <td>1.091021e+06</td>\n",
              "    </tr>\n",
              "    <tr>\n",
              "      <th>unique</th>\n",
              "      <td>NaN</td>\n",
              "      <td>335533</td>\n",
              "      <td>60</td>\n",
              "      <td>NaN</td>\n",
              "      <td>426</td>\n",
              "      <td>NaN</td>\n",
              "      <td>245</td>\n",
              "      <td>NaN</td>\n",
              "      <td>16</td>\n",
              "      <td>297040</td>\n",
              "      <td>NaN</td>\n",
              "      <td>NaN</td>\n",
              "    </tr>\n",
              "    <tr>\n",
              "      <th>top</th>\n",
              "      <td>NaN</td>\n",
              "      <td>7992E92F9AE0F7506BD439547FD7E11F</td>\n",
              "      <td>КОШЕЛЕК</td>\n",
              "      <td>NaN</td>\n",
              "      <td>Щёлковская ( Северный )</td>\n",
              "      <td>NaN</td>\n",
              "      <td>Щёлковская</td>\n",
              "      <td>NaN</td>\n",
              "      <td>Таганско-Краснопресненская</td>\n",
              "      <td>2022-09-12 08:20:09</td>\n",
              "      <td>NaN</td>\n",
              "      <td>NaN</td>\n",
              "    </tr>\n",
              "    <tr>\n",
              "      <th>freq</th>\n",
              "      <td>NaN</td>\n",
              "      <td>8</td>\n",
              "      <td>262499</td>\n",
              "      <td>NaN</td>\n",
              "      <td>17810</td>\n",
              "      <td>NaN</td>\n",
              "      <td>22133</td>\n",
              "      <td>NaN</td>\n",
              "      <td>156031</td>\n",
              "      <td>29</td>\n",
              "      <td>NaN</td>\n",
              "      <td>NaN</td>\n",
              "    </tr>\n",
              "    <tr>\n",
              "      <th>mean</th>\n",
              "      <td>5.455110e+05</td>\n",
              "      <td>NaN</td>\n",
              "      <td>NaN</td>\n",
              "      <td>8.581884e+02</td>\n",
              "      <td>NaN</td>\n",
              "      <td>8.601452e+03</td>\n",
              "      <td>NaN</td>\n",
              "      <td>8.590013e+00</td>\n",
              "      <td>NaN</td>\n",
              "      <td>NaN</td>\n",
              "      <td>5.104668e+02</td>\n",
              "      <td>7.723527e+03</td>\n",
              "    </tr>\n",
              "    <tr>\n",
              "      <th>std</th>\n",
              "      <td>3.149508e+05</td>\n",
              "      <td>NaN</td>\n",
              "      <td>NaN</td>\n",
              "      <td>9.003577e+02</td>\n",
              "      <td>NaN</td>\n",
              "      <td>1.247133e+04</td>\n",
              "      <td>NaN</td>\n",
              "      <td>1.247157e+01</td>\n",
              "      <td>NaN</td>\n",
              "      <td>NaN</td>\n",
              "      <td>2.328452e+02</td>\n",
              "      <td>1.167015e+04</td>\n",
              "    </tr>\n",
              "    <tr>\n",
              "      <th>min</th>\n",
              "      <td>1.000000e+00</td>\n",
              "      <td>NaN</td>\n",
              "      <td>NaN</td>\n",
              "      <td>2.000000e+01</td>\n",
              "      <td>NaN</td>\n",
              "      <td>1.002000e+03</td>\n",
              "      <td>NaN</td>\n",
              "      <td>1.000000e+00</td>\n",
              "      <td>NaN</td>\n",
              "      <td>NaN</td>\n",
              "      <td>3.001667e+01</td>\n",
              "      <td>1.002000e+03</td>\n",
              "    </tr>\n",
              "    <tr>\n",
              "      <th>25%</th>\n",
              "      <td>2.727560e+05</td>\n",
              "      <td>NaN</td>\n",
              "      <td>NaN</td>\n",
              "      <td>2.150000e+02</td>\n",
              "      <td>NaN</td>\n",
              "      <td>3.018000e+03</td>\n",
              "      <td>NaN</td>\n",
              "      <td>3.000000e+00</td>\n",
              "      <td>NaN</td>\n",
              "      <td>NaN</td>\n",
              "      <td>3.229500e+02</td>\n",
              "      <td>3.006000e+03</td>\n",
              "    </tr>\n",
              "    <tr>\n",
              "      <th>50%</th>\n",
              "      <td>5.455110e+05</td>\n",
              "      <td>NaN</td>\n",
              "      <td>NaN</td>\n",
              "      <td>3.370000e+02</td>\n",
              "      <td>NaN</td>\n",
              "      <td>7.009000e+03</td>\n",
              "      <td>NaN</td>\n",
              "      <td>7.000000e+00</td>\n",
              "      <td>NaN</td>\n",
              "      <td>NaN</td>\n",
              "      <td>5.686833e+02</td>\n",
              "      <td>6.013000e+03</td>\n",
              "    </tr>\n",
              "    <tr>\n",
              "      <th>75%</th>\n",
              "      <td>8.182660e+05</td>\n",
              "      <td>NaN</td>\n",
              "      <td>NaN</td>\n",
              "      <td>2.087000e+03</td>\n",
              "      <td>NaN</td>\n",
              "      <td>9.022000e+03</td>\n",
              "      <td>NaN</td>\n",
              "      <td>9.000000e+00</td>\n",
              "      <td>NaN</td>\n",
              "      <td>NaN</td>\n",
              "      <td>6.838833e+02</td>\n",
              "      <td>9.012000e+03</td>\n",
              "    </tr>\n",
              "    <tr>\n",
              "      <th>max</th>\n",
              "      <td>1.091021e+06</td>\n",
              "      <td>NaN</td>\n",
              "      <td>NaN</td>\n",
              "      <td>2.466000e+03</td>\n",
              "      <td>NaN</td>\n",
              "      <td>8.101600e+04</td>\n",
              "      <td>NaN</td>\n",
              "      <td>8.100000e+01</td>\n",
              "      <td>NaN</td>\n",
              "      <td>NaN</td>\n",
              "      <td>1.437417e+03</td>\n",
              "      <td>8.101600e+04</td>\n",
              "    </tr>\n",
              "  </tbody>\n",
              "</table>\n",
              "</div>\n",
              "      <button class=\"colab-df-convert\" onclick=\"convertToInteractive('df-929500f4-6208-4665-b34b-d8ac0f3d6e47')\"\n",
              "              title=\"Convert this dataframe to an interactive table.\"\n",
              "              style=\"display:none;\">\n",
              "        \n",
              "  <svg xmlns=\"http://www.w3.org/2000/svg\" height=\"24px\"viewBox=\"0 0 24 24\"\n",
              "       width=\"24px\">\n",
              "    <path d=\"M0 0h24v24H0V0z\" fill=\"none\"/>\n",
              "    <path d=\"M18.56 5.44l.94 2.06.94-2.06 2.06-.94-2.06-.94-.94-2.06-.94 2.06-2.06.94zm-11 1L8.5 8.5l.94-2.06 2.06-.94-2.06-.94L8.5 2.5l-.94 2.06-2.06.94zm10 10l.94 2.06.94-2.06 2.06-.94-2.06-.94-.94-2.06-.94 2.06-2.06.94z\"/><path d=\"M17.41 7.96l-1.37-1.37c-.4-.4-.92-.59-1.43-.59-.52 0-1.04.2-1.43.59L10.3 9.45l-7.72 7.72c-.78.78-.78 2.05 0 2.83L4 21.41c.39.39.9.59 1.41.59.51 0 1.02-.2 1.41-.59l7.78-7.78 2.81-2.81c.8-.78.8-2.07 0-2.86zM5.41 20L4 18.59l7.72-7.72 1.47 1.35L5.41 20z\"/>\n",
              "  </svg>\n",
              "      </button>\n",
              "      \n",
              "  <style>\n",
              "    .colab-df-container {\n",
              "      display:flex;\n",
              "      flex-wrap:wrap;\n",
              "      gap: 12px;\n",
              "    }\n",
              "\n",
              "    .colab-df-convert {\n",
              "      background-color: #E8F0FE;\n",
              "      border: none;\n",
              "      border-radius: 50%;\n",
              "      cursor: pointer;\n",
              "      display: none;\n",
              "      fill: #1967D2;\n",
              "      height: 32px;\n",
              "      padding: 0 0 0 0;\n",
              "      width: 32px;\n",
              "    }\n",
              "\n",
              "    .colab-df-convert:hover {\n",
              "      background-color: #E2EBFA;\n",
              "      box-shadow: 0px 1px 2px rgba(60, 64, 67, 0.3), 0px 1px 3px 1px rgba(60, 64, 67, 0.15);\n",
              "      fill: #174EA6;\n",
              "    }\n",
              "\n",
              "    [theme=dark] .colab-df-convert {\n",
              "      background-color: #3B4455;\n",
              "      fill: #D2E3FC;\n",
              "    }\n",
              "\n",
              "    [theme=dark] .colab-df-convert:hover {\n",
              "      background-color: #434B5C;\n",
              "      box-shadow: 0px 1px 3px 1px rgba(0, 0, 0, 0.15);\n",
              "      filter: drop-shadow(0px 1px 2px rgba(0, 0, 0, 0.3));\n",
              "      fill: #FFFFFF;\n",
              "    }\n",
              "  </style>\n",
              "\n",
              "      <script>\n",
              "        const buttonEl =\n",
              "          document.querySelector('#df-929500f4-6208-4665-b34b-d8ac0f3d6e47 button.colab-df-convert');\n",
              "        buttonEl.style.display =\n",
              "          google.colab.kernel.accessAllowed ? 'block' : 'none';\n",
              "\n",
              "        async function convertToInteractive(key) {\n",
              "          const element = document.querySelector('#df-929500f4-6208-4665-b34b-d8ac0f3d6e47');\n",
              "          const dataTable =\n",
              "            await google.colab.kernel.invokeFunction('convertToInteractive',\n",
              "                                                     [key], {});\n",
              "          if (!dataTable) return;\n",
              "\n",
              "          const docLinkHtml = 'Like what you see? Visit the ' +\n",
              "            '<a target=\"_blank\" href=https://colab.research.google.com/notebooks/data_table.ipynb>data table notebook</a>'\n",
              "            + ' to learn more about interactive tables.';\n",
              "          element.innerHTML = '';\n",
              "          dataTable['output_type'] = 'display_data';\n",
              "          await google.colab.output.renderOutput(dataTable, element);\n",
              "          const docLink = document.createElement('div');\n",
              "          docLink.innerHTML = docLinkHtml;\n",
              "          element.appendChild(docLink);\n",
              "        }\n",
              "      </script>\n",
              "    </div>\n",
              "  </div>\n",
              "  "
            ]
          },
          "metadata": {},
          "execution_count": 12
        }
      ],
      "source": [
        "df.describe(include='all')"
      ]
    },
    {
      "cell_type": "markdown",
      "metadata": {
        "id": "HBVk6T8Brial"
      },
      "source": [
        "Для станции, входа в неё и ветки есть дублирующие колонки, а именно id и название. Удалим id этих параметров. Также удалим колонку id. "
      ]
    },
    {
      "cell_type": "code",
      "execution_count": 13,
      "metadata": {
        "id": "dM1w-XworhwE"
      },
      "outputs": [],
      "source": [
        "df.drop(columns=['entrance_id','station_id','line_id','id'],inplace=True)"
      ]
    },
    {
      "cell_type": "markdown",
      "metadata": {
        "id": "MlnBX-O5slVS"
      },
      "source": [
        "Глянем на пропуски и удалим если они есть"
      ]
    },
    {
      "cell_type": "code",
      "execution_count": 14,
      "metadata": {
        "colab": {
          "base_uri": "https://localhost:8080/"
        },
        "id": "koWhCLX6snST",
        "outputId": "a9cab4a6-827d-4f4e-b8d9-16dda524a75f"
      },
      "outputs": [
        {
          "output_type": "execute_result",
          "data": {
            "text/plain": [
              "ticket_id         0\n",
              "ticket_type_nm    0\n",
              "entrance_nm       0\n",
              "station_nm        0\n",
              "line_nm           0\n",
              "pass_dttm         0\n",
              "time_to_under     0\n",
              "label             0\n",
              "dtype: int64"
            ]
          },
          "metadata": {},
          "execution_count": 14
        }
      ],
      "source": [
        "df.isnull().sum()"
      ]
    },
    {
      "cell_type": "markdown",
      "metadata": {
        "id": "5F1ker_EtP8s"
      },
      "source": [
        "Так как id билета для каждого пользователя уникален, то нет смысла его оставлять в обучающей выборки - удалим его."
      ]
    },
    {
      "cell_type": "code",
      "execution_count": 15,
      "metadata": {
        "id": "WjnyieWrtbcy"
      },
      "outputs": [],
      "source": [
        "df.drop(columns=['ticket_id'], inplace=True)"
      ]
    },
    {
      "cell_type": "markdown",
      "metadata": {
        "id": "MRVRp3U1tijv"
      },
      "source": [
        "Перейдём к решению. Начнём с регрессии: чтобы модель могла делать прогноз обработаем параметр дата валидации: извлечём день недели,час и параметр рабочий день/выходной. Месяц не трогаем, тк данные представлена за неделю. Все остальные признаки будут категориальными для модели CatBoost"
      ]
    },
    {
      "cell_type": "code",
      "execution_count": 16,
      "metadata": {
        "id": "rgM9u6ovvNTH"
      },
      "outputs": [],
      "source": [
        "def time_preprocess_r(df):\n",
        "    df['day'] = df.pass_dttm.dt.dayofweek #день недели\n",
        "    df['hour'] = df.pass_dttm.dt.hour # час в формате 24\n",
        "    df['workday'] = df['day'].apply(lambda x: 0 if x == 5 or x == 6 else 1)\n",
        "    df = df.drop(columns=['pass_dttm'])\n",
        "    return df"
      ]
    },
    {
      "cell_type": "code",
      "execution_count": 17,
      "metadata": {
        "colab": {
          "base_uri": "https://localhost:8080/"
        },
        "id": "k1nmmmpCtni7",
        "outputId": "262a7991-eaa0-4ea5-cd10-31185b6bcaf9"
      },
      "outputs": [
        {
          "output_type": "stream",
          "name": "stdout",
          "text": [
            "Learning rate set to 0.5\n",
            "0:\tlearn: 186.9152947\ttotal: 390ms\tremaining: 3.51s\n",
            "1:\tlearn: 169.2564073\ttotal: 676ms\tremaining: 2.7s\n",
            "2:\tlearn: 164.1337710\ttotal: 936ms\tremaining: 2.18s\n",
            "3:\tlearn: 162.3125088\ttotal: 1.25s\tremaining: 1.88s\n",
            "4:\tlearn: 161.6241261\ttotal: 1.54s\tremaining: 1.54s\n",
            "5:\tlearn: 161.3624843\ttotal: 1.8s\tremaining: 1.2s\n",
            "6:\tlearn: 161.0179657\ttotal: 2.05s\tremaining: 879ms\n",
            "7:\tlearn: 160.8814853\ttotal: 2.32s\tremaining: 579ms\n",
            "8:\tlearn: 160.5939880\ttotal: 2.58s\tremaining: 287ms\n",
            "9:\tlearn: 160.4777901\ttotal: 2.85s\tremaining: 0us\n"
          ]
        }
      ],
      "source": [
        "df.pass_dttm = pd.to_datetime(df.pass_dttm)\n",
        "\n",
        "x_regress_train, x_regress_test, y_regress_train, y_regress_test = train_test_split(df.drop(columns=['time_to_under']), df[['time_to_under']], test_size=0.3)\n",
        "x_regress_train = time_preprocess_r(x_regress_train)\n",
        "x_regress_test = time_preprocess_r(x_regress_test)\n",
        "\n",
        "\n",
        "model_regression = CatBoostRegressor(iterations = 10)\n",
        "model_regression.fit(x_regress_train,y_regress_train, cat_features=['ticket_type_nm','entrance_nm','station_nm','line_nm'])\n",
        "forecast_regression=model_regression.predict(x_regress_test)"
      ]
    },
    {
      "cell_type": "markdown",
      "metadata": {
        "id": "V_fxVDm2v98r"
      },
      "source": [
        "Рассмотрим классификацию: категориальные признаки все те же. Дату валидации также преобразуем, но уже с учётом, того что модель классификации а не регрессии."
      ]
    },
    {
      "cell_type": "code",
      "execution_count": 18,
      "metadata": {
        "id": "2BWU5FW7wMBK"
      },
      "outputs": [],
      "source": [
        "def time_preprocess_c(df):\n",
        "    df['day'] = df.pass_dttm.dt.dayofweek #день недели\n",
        "    df['hour'] = df.pass_dttm.dt.hour # час в формате 24\n",
        "    df['workday'] = df['day'].apply(lambda x: 0 if x == 5 or x == 6 else 1)\n",
        "\n",
        "    df['name_workday'] = df['day'].apply(lambda x : 'holiday' if x == 5 or x ==6  else 'work')\n",
        "\n",
        "    df = df.drop(columns=['pass_dttm','day','hour','workday'])\n",
        "    return df"
      ]
    },
    {
      "cell_type": "markdown",
      "metadata": {
        "id": "_KIUY67xw6z_"
      },
      "source": [
        "В силу огр-ти выч ресурсов обрежем данные"
      ]
    },
    {
      "cell_type": "code",
      "execution_count": 19,
      "metadata": {
        "colab": {
          "base_uri": "https://localhost:8080/"
        },
        "id": "isIQIIxpwT3_",
        "outputId": "2130b657-6cb0-4b02-bcd9-0a13552134a9"
      },
      "outputs": [
        {
          "output_type": "stream",
          "name": "stdout",
          "text": [
            "Learning rate set to 0.5\n",
            "0:\tlearn: 5.0657173\ttotal: 3.87s\tremaining: 34.8s\n",
            "1:\tlearn: 4.9025190\ttotal: 7.65s\tremaining: 30.6s\n",
            "2:\tlearn: 4.7528377\ttotal: 11.4s\tremaining: 26.7s\n",
            "3:\tlearn: 4.6548199\ttotal: 15.2s\tremaining: 22.8s\n",
            "4:\tlearn: 4.5063368\ttotal: 19s\tremaining: 19s\n",
            "5:\tlearn: 4.4186711\ttotal: 20.6s\tremaining: 13.8s\n",
            "6:\tlearn: 4.2990402\ttotal: 25.3s\tremaining: 10.8s\n",
            "7:\tlearn: 4.2449034\ttotal: 29.2s\tremaining: 7.31s\n",
            "8:\tlearn: 4.1202723\ttotal: 33s\tremaining: 3.67s\n",
            "9:\tlearn: 3.9893412\ttotal: 36.9s\tremaining: 0us\n"
          ]
        }
      ],
      "source": [
        "df.pass_dttm = pd.to_datetime(df.pass_dttm)\n",
        "\n",
        "x_class_train = df.drop(columns=['label'])[:500]\n",
        "y_class_train = df[['label']][:500]\n",
        "\n",
        "\n",
        "test_class = df.loc[df.ticket_type_nm.isin(x_class_train.ticket_type_nm)&\n",
        "                    df.entrance_nm.isin(x_class_train.entrance_nm) &\n",
        "                    df.station_nm.isin(x_class_train.station_nm) &\n",
        "                    df.line_nm.isin(x_class_train.line_nm) ]\n",
        "\n",
        "x_class_test = test_class.drop(columns=['label'])[-100:]\n",
        "y_class_test = test_class[['label']][-100:]\n",
        "\n",
        "x_class_train = time_preprocess_c(x_class_train)\n",
        "x_class_test = time_preprocess_c(x_class_test)\n",
        "\n",
        "\n",
        "model_class = CatBoostClassifier(iterations = 10, depth = 5)\n",
        "model_class.fit(x_class_train,y_class_train, cat_features=['name_workday','ticket_type_nm','entrance_nm','station_nm','line_nm'])\n",
        "forecast_class= model_class.predict(x_class_test)\n"
      ]
    },
    {
      "cell_type": "markdown",
      "metadata": {
        "id": "yIe9HzXnx268"
      },
      "source": [
        "Проверим точность"
      ]
    },
    {
      "cell_type": "code",
      "execution_count": 20,
      "metadata": {
        "id": "i7XCxGihx5x1"
      },
      "outputs": [],
      "source": [
        "from sklearn.metrics import r2_score, recall_score\n",
        "def result(actual_class, forecast_class, actual_regress, forecast_regress):\n",
        "    return 0.5 * r2_score(actual_regress, forecast_regress) + 0.5 * recall_score(actual_class, forecast_class, average='micro')\n"
      ]
    },
    {
      "cell_type": "code",
      "execution_count": 21,
      "metadata": {
        "colab": {
          "base_uri": "https://localhost:8080/"
        },
        "id": "9fpYMbIIx_w0",
        "outputId": "7deffa5b-298f-491a-c480-05dcef20855d"
      },
      "outputs": [
        {
          "output_type": "stream",
          "name": "stdout",
          "text": [
            "result:  0.2633861734558882\n"
          ]
        }
      ],
      "source": [
        "print('result: ', result(y_class_test, forecast_class, y_regress_test, forecast_regression))"
      ]
    }
  ],
  "metadata": {
    "colab": {
      "provenance": []
    },
    "kernelspec": {
      "display_name": "Python 3",
      "language": "python",
      "name": "python3"
    },
    "language_info": {
      "codemirror_mode": {
        "name": "ipython",
        "version": 3
      },
      "file_extension": ".py",
      "mimetype": "text/x-python",
      "name": "python",
      "nbconvert_exporter": "python",
      "pygments_lexer": "ipython3",
      "version": "3.8.8"
    }
  },
  "nbformat": 4,
  "nbformat_minor": 0
}